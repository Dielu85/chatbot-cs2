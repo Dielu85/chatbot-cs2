{
 "cells": [
  {
   "cell_type": "code",
   "execution_count": 1,
   "metadata": {},
   "outputs": [],
   "source": [
    "from dotenv import load_dotenv\n",
    "from langchain_community.embeddings import OpenAIEmbeddings\n",
    "from langchain_chroma import Chroma\n",
    "from langchain_community.document_loaders import PyPDFLoader\n",
    "from langchain_text_splitters import RecursiveCharacterTextSplitter\n",
    "import PyPDF2"
   ]
  },
  {
   "cell_type": "code",
   "execution_count": 2,
   "metadata": {},
   "outputs": [
    {
     "data": {
      "text/plain": [
       "True"
      ]
     },
     "execution_count": 2,
     "metadata": {},
     "output_type": "execute_result"
    }
   ],
   "source": [
    "load_dotenv()"
   ]
  },
  {
   "cell_type": "code",
   "execution_count": 3,
   "metadata": {},
   "outputs": [
    {
     "name": "stderr",
     "output_type": "stream",
     "text": [
      "c:\\Users\\Die\\Desktop\\Diego Gomez\\ChatBot\\env\\Lib\\site-packages\\langchain_core\\_api\\deprecation.py:139: LangChainDeprecationWarning: The class `OpenAIEmbeddings` was deprecated in LangChain 0.0.9 and will be removed in 0.3.0. An updated version of the class exists in the langchain-openai package and should be used instead. To use it run `pip install -U langchain-openai` and import as `from langchain_openai import OpenAIEmbeddings`.\n",
      "  warn_deprecated(\n"
     ]
    }
   ],
   "source": [
    "PATH_PDF = \"./docs/Guía_Counter_Strike_2.pdf\"\n",
    "embeddings_function = OpenAIEmbeddings()\n",
    "\n",
    "loader= PyPDFLoader(PATH_PDF)\n",
    "documents = loader.load()"
   ]
  },
  {
   "cell_type": "code",
   "execution_count": 4,
   "metadata": {},
   "outputs": [],
   "source": [
    "with open(\"./docs/Guía_Counter_Strike_2.pdf\", \"rb\") as f:\n",
    "    guia_counter_strike_2 = f.read()\n",
    "\n",
    "    pdf_reader = PyPDF2.PdfReader(f)\n",
    "\n",
    "    guia_counter_strike_2 = \"\"\n",
    "\n",
    "    for page in pdf_reader.pages:\n",
    "        guia_counter_strike_2 += page.extract_text()\n",
    "\n",
    "def split_text_by_sections(text):\n",
    "    text_splitter = RecursiveCharacterTextSplitter(\n",
    "        separators=[r\"\\n(?=\\d+\\.\\s)\"],\n",
    "        chunk_size=500,\n",
    "        chunk_overlap=20,\n",
    "        is_separator_regex=True\n",
    "    )\n",
    "    \n",
    "    chunks = text_splitter.split_text(text)\n",
    "    \n",
    "    return chunks\n",
    "\n",
    "chunks = split_text_by_sections(guia_counter_strike_2)"
   ]
  },
  {
   "cell_type": "code",
   "execution_count": 5,
   "metadata": {},
   "outputs": [
    {
     "data": {
      "text/plain": [
       "<langchain_chroma.vectorstores.Chroma at 0x1c5d3436f90>"
      ]
     },
     "execution_count": 5,
     "metadata": {},
     "output_type": "execute_result"
    }
   ],
   "source": [
    "Chroma.from_documents(\n",
    "    documents=documents,\n",
    "    embedding=embeddings_function,\n",
    "    persist_directory=\"docs/Chroma\"\n",
    ")"
   ]
  }
 ],
 "metadata": {
  "kernelspec": {
   "display_name": "env",
   "language": "python",
   "name": "python3"
  },
  "language_info": {
   "codemirror_mode": {
    "name": "ipython",
    "version": 3
   },
   "file_extension": ".py",
   "mimetype": "text/x-python",
   "name": "python",
   "nbconvert_exporter": "python",
   "pygments_lexer": "ipython3",
   "version": "3.11.9"
  }
 },
 "nbformat": 4,
 "nbformat_minor": 2
}
